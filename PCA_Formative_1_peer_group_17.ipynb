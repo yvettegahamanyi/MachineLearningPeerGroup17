{
 "cells": [
  {
   "cell_type": "markdown",
   "metadata": {
    "id": "JqkivgEHr_KW"
   },
   "source": [
    "# Formative Assignment: Advanced Linear Algebra (PCA)\n",
    "This notebook will guide you through the implementation of Principal Component Analysis (PCA). Fill in the missing code and provide the required answers in the appropriate sections. You will work with a dataset that is Africanized .\n",
    "\n",
    "Make sure to display outputs for each code cell when submitting."
   ]
  },
  {
   "cell_type": "markdown",
   "metadata": {
    "id": "xycIp758r_Kb"
   },
   "source": [
    "### Step 1: Load and Standardize the Data\n",
    "Before applying PCA, we must standardize the dataset. Standardization ensures that all features have a mean of 0 and a standard deviation of 1, which is essential for PCA.\n",
    "Fill in the code to standardize the dataset.\n",
    "\n",
    "STRICTLY - Write code that implements standardization based on the image below\n",
    "\n",
    "<img src='data:image/jpeg;base64,/9j/4AAQSkZJRgABAQAAAQABAAD/2wCEAAkGBw8NEQ4NDxIPDw8RDhAQDxANEA8SDxAQFhIWGBUVGBUkKCgsGBslGxUYIT0hJSs3OjouFyIzOTMtQygtLysBCgoKDg0OGhAQGy8mHSUtKy03LS8tLS0tKy0tMDU3LS0tLS0tLS0tLS02LTItLS0tLS0tLS01LS0tLS0tKy8tLf/AABEIAJ4BPwMBIgACEQEDEQH/xAAcAAEAAgIDAQAAAAAAAAAAAAAABAUGBwECAwj/xABHEAABBAECAQcGCQkHBQAAAAABAAIDBBEFEiEGEyIxQVFhBxQVcYGTMjRCUnShs9HSIzNjgpGSlbHUFiQlU1Ryc0RiZKLB/8QAFwEBAQEBAAAAAAAAAAAAAAAAAAECA//EACERAQEAAgEEAwEBAAAAAAAAAAABAhEhBBITFAMxUUFh/9oADAMBAAIRAxEAPwDeKIiAiIgIiICIiAiIgIiIOHuDQSSAAMkk4AHequDlLp8nOlluo8RY50tniIjycDcc8OJx61hvlxqXpqUYqh7oWyOdcZFkvMe3okj5TAckj1HsKxbkfoei3aeoagI52c1TMdmo+V3NM2MZJva8Yc4OfCHcT15GF3x+KXDutYuVl029Bygoyv5qO1Vkk2udsjnic7a0Zc7APUB2rrV5RUZ3mGK1Wlkax0jmRTRvcGNxlxAPADI/atE8nakNLQ7+qlv97nfJQrv3OGIpAxsmG5xnhIc4z0V4ci2eYTas/qdDoMx9UsrK5A9jn49i6Xp5zq/TPk+m+Byr04wvtC3WNdjwx8rZWmNrzjDSe/iOC7y8ptPZIIH26rZiQBE6eMSbj1DbnIPgvmzkw98zq+lYPN2NSpSvB+Y0Pa7I7i14P6qkalHBZr6vqkvGSXU2x1ME9b3ySy8O0c3t+pa9WS6tSfLbH0pqOr1amDZngrgglvPyxx5A68ZIyvGXlDRZFHZfZrMhkBMcr5o2skA6y0k8fYvn3lzPLalEcxc46dpNSKTcf+odzQk49p3zYP8Axld+U92FreTsU7HTQwaVXmlia7aZBKS4s3fJyGDj3FZnTbk5PL9t/Rco6D4jabaqmBrtrphPHzbXfNLs4B8F60NbqWWPmgsQTRs/OPilY5jO3pEHh7V8/wCt6LLV06tHtbDJqupNnhrxvMjYoGxlsLdxJ3HMzTnPVheVzZRl5RR08io2s2kRuc4GR80TDxPXxbYx4ZT1pZxV8l/H0TBqdeRnOsmhfHkgPZIwsJBwRuzjgeC6u1eqGvkM8AYwgSPMse1hPUHHPDPitB8sdFpwafoweZn6hJRibDVj2bGiSR0r5HDBJJdLtAB4keBXtr3J52m09L0UnFnULjbNsNxtjADY2M9Td2c97CVJ0+N1yeS/jd8HKShIx8rLVV0bHhj5BNHzbXkZDS7OMnuSPlHQcXNbbqOLW73htiI7W5AyePAZcB7VpXkdUry8n9bkmZvYyy6SEFz24mbXj5o8CM9J44FVVvS46+hVZmMPnepWzG47ndKCJ7yxob1DpsYeA7VfXx3rf90eSvoS3rVSCEW5Z4WV3BpbM6RvNuDvg7XfKz4KO/lRp7YI7brVZteR2yOZ0rBG54zloPfwPDwWo4NH9P3Z60kr4dL0iBtdnN7Rgxt2EjORkmN5LsfBa0duVg1iR40yrBglkuoXLMfeWRwQx7sdgyZP3SmPTS8b5L8ln8fTzNYrOmbVbNGZ3Rc82JrgXmLsfj5vipy055FZH3rlq9IDmDT6dJhPHgGgO4+PM5/WW41w+XDsy7W8cu6bERFzaEREBERAREQEREBERAREQEREBERAREQEREGEeUDTNbmlrTaTOyJsbJGyRucG7nOI6RyHB4wAMEcOJ454UumeT23S0nUKkb4pb17YJOkWwsZkAtDsceiXnOOs9S2ii6T5cpNRntm9tRXvJtflpaRpgdXEVeaaa67nH8XySk/k+j0iGOeOOOJUGXyW34xqsdUVo4rTmRVmunkLmV22GyZeSD1tY0YyTxW60W51GaeONQs8mVyC6bsBgLIaTY4GF7t8lhun8w09WGjnADklccifJZYidA/UnRGGtI6aGpC7cHzHb05H46ug3gM/BHHrB2+il6jPWjxxpCz5J788dyxN5u7UJ7bZIyJ5Oaijc57pSTt4klwGMHAHBWEPkutyvsOsvr7BpMdKqGue4iaOCJjXnhwbvY89/S6lt9FfYzPHi0zf8nmsn0RCySs/zCN2yd7nBsbzNvADMEu2BrMHHYO5S9e8l04oV9NpPY977PnF6zYcWGVwYWtwOPAbzgeHE5JK22insZ8HZGmb/k21mW/LfisVoiJneave97nxwty2IbdhDcMwMf8A3ivWfybalesCbU5IbLIab4WFs0ofPKGvdGT0Rtbzj+/qaOC3CivsZnjjUlXyfajDotjSga5sWbzJnkSu5tsQEXAu29eYhwA7VKu8gbkjuT0OYfNtOZE6yd7gXy84x0mxuOI/J9Zx8JbRRTz5HZGmW+TfWGz3q0VmODTrkznzvaQZJIi5xDdmMh2HEYyAfHqVtqvk5lktw8yI2UKulzVYGOkPOPmkimaXEY7XSgkk9bVtBEvz5nZGFeSzkjNo1eaOw6J00s/OHmS5zWsEbWhuSBk5Dj7VmqIueWVyu61JqagiIsqIiICIiAiIgIiICIiAiIgKqv8AKCvXkMEhkEnNukYBFK7ndpYC2PA6b8yM6LePS8Di1WPahpFqaxBbEkAdXmk5qMseWcxJG5ri45yZMlh4YHQx8okWa/qVfNlBaHHoggHp9EjPYR2FBK08A5p9RC87dOKdvNzRxysJBLJWNezI6jgqLW0GlC5skdWrHI05a+OCJr2nGODgOHAqHKRYvRxPghcTvnc9sYDSclrC92T2DDTxPbgdqafejsxtmiJdG4uDSQRna4tJ9WWniqHVK9ifUGcy7m216Dxzj2OLd9mTG5nY57BX6j/mg+BtOTWnvp1a1V5YXQwsizHu2nY0DPHrJxn2rVk0LNERZUREQEREBERARFR0hc9IW+ckjdU82rmGIB2+N+6QF2e3OHZ9TfFWQXiIigIiICIiAiIgIiICIiAiIgIiICIiAiIgLHOWVprWwRA4nfI4wl75GV2YYQ6SYgjcxodnZnpO2jxGRorLpKq+TkDI6sLY3zStLNwksF/PSF3Eudni3JOcdQHAAYwqT0Zc+Za/isn4VlwC5TZp5VmkMYHZ3BjQcu3HOOOXdvrVZYrakXvMdmkyMuOxr6Ez3tb2AuEw3HxwPUrhElNKLzXVf9XQ/h0/9QufNdV/1dD+HT/1Cma9qJqV5bDW845oAjZnaHyOcGsaT2AucBlVWkWbjrs1aeZj2w168rxDAGRmSYzAx5JJG0Rtd19TuK1zraJHmmq/6uh/Dp/6hWOmR2WtIsyQzP3Za6vA+BobgcC0vfk5zxz29SmIs7XQiIooiIgIiICIiAoEPxqf6NW+0sKeoEPxqf6NW+0sKonoiKKIiICIiAiIgIiICIiAiIgIiICIiAiIgIiICIiAiIg87EDJWujka17HAhzXgFrgewhedSlFAHCNjWbnbnkDi92ANzj1uOABk9ykIgIiICIiAiIgIiICIiAoEPxqf6NW+0sKeq+Fw87nGRnzWtw7fzlhEWCIiKIiICIiAiIgIiICIiAiIgIiICIiAiIgIiICIiAiIgIiICIiAiIgIiICIiAiIgoeV2ryVY44awDrtqQQVGuGWh5GXSuHzWNBcfUB2rHv7CxNfLzEkjNQjggmZqDnOM77JfNuMnzmO2gFnVgeCstBHn9+3qR4w1y6hS7jtINmUet42Z7o1fQ/Gp/o1b7SwjVvbxEbktrPn1dsr281Ox7obUPbFYjOHt9WeIPcQrhYnY/w/VI5Rwr6mBDJ3NvRNJjd+vGC31xtWQnUI+dFfpGQ9zXFo4ZwXdQOCDjxHehZ+JaKPHcY5xYCdwznouA4dfHCU7XO850S0skdGQSDnABz9aJpIRERBERAREQEREBERAREQEREBERAREQEREBERAREQEREBERAREQEREBUXLPVX1KrzDxszObWqN77Ep2sPqGS4+DSr1YhRPpS+bfXT090kNY9k1w9GaUd4YOgD3lyNYzlf6BpbKNaCozi2KNrMnrc75Tj4k5PtXMPxqf6NW+0sKeoEXxqb6NX+0nSM3lF5XaSb1SaFh2zDbLWf8yxE4Pid+80ewlccmbsV6CG+1gbJLHiTh0mSDDZGHuIczaf9g7grpYjpf8Ah2o2KZ4V7+65Vz8FtkYFmIevoyAeL0an1plTYGAlwa0OPWQ0An2riCuyPcWjG9xe7iTlx7V6ojIiIgIiICIiAiIgIiICIiAiIgIiICIiAiIgIiICIiAiIgIiICIiAihalq9Wo3fZnhgb3zSMZ/PrVBJywda6Gl1pbjj1WJWugos8TK4Zf6mA+sIslqRyy1ORjIqFU/326TFERxMEWPytg9wa3q/7i1W+jabFTghqwjbFDG1jB24Hae8k8faq7k5yfdWdLbsyec3pwBNNt2sYwfBhib8iMd3aeJ4q+RbeNQUCL41N9Gr/AGk6nqBF8am+jV/tJ0ZT1T8qNE8/hDGv5mxE9s1WcDJhsN+C7xHWCO0EhXCIKPktr3nrJI5W8zdruEduuTxjkxwc3vjcOId3eoq8VByi5PGw9lyrJ5tfiaWxzhu5kjM5MMzflxk+0HiFGocrmse2rqUfmFo8GmQ5qWD3wz9Rz812HeCNWb5jKEXAOVyjIiIgIiICIiAiIgIiICIiAiIgIiICi6lfjqxSWJdwjjaXPLGPkdjwa0En9ilIgqNN5R17UMViPndksbZGZgmztcMjOAR9ak+lof0vuJ/wqY1gHAcB2AcAuyvCcoPpaH9L7if8Kelof0vuJ/wqcihyg+lof0vuJ/wqDq/KaOrGJGwXbRLg3m6taR0nEE5wcDHDv7QrxEWMLby1tSfm9Kugdhsuji/aBuIXH9oNWf8ABqU4PGaa7Kf2NiH81mqKtbn4wnnNVl/OXoa47qWmWHPH60m4f+q49AwS/Gr2r2e8F9mCM/qRtYs2RE7qxbTtF0eq7fFVYJP8x9WaSX99zSfrV2NUh/Se4n/Cp64US21C9Kw/pPcT/hT0rD3ye4n/AAqaiIhelYe+T3E/4VDj1GPziV/5Xaa8LQeYnwXB8pI+D3OH7VOpalFOdsZJPNsl4gjoPc9rT7djlw3UmF2zbPndtya9gNzn523GPHKbjXbXHpWHvk9zP+FPSsPfJ7mb8KianrLoZHMa0ObGyu+XJOS2aYxjb4ja48evgPFXCm4XGybqF6Wh75Pcz/hXhcs1LDHRTM52Nww5kteVzHDxBarTC5VTlg40CvB8Qt6jQHZFEJZaw9UMjXBo8G4XYz6tH8C7VnH/AJOmWmOPtY7H1LNkRe6sKHKDV2ddajN4xTXYvqdEf5rsOVeoj4Wmg/8AHbJH1xhZmiuzf+MLPLK4OvS7R/2zRH7ld6Xr7ZomyTRT1pCXAwyMe9zcEgHLQQc9ftVxhcoWoPpaHvk9zN9yeloe+T3M33KcijPKD6Wh75PczfcnpaHvk9zN9ynIhyg+loe9/uZvuT0tD3v91N9ynIgqNL5SVbc9mpE5/PVy3nWuikaMOaHAhxGDwd1dfgrddWsAyQAMnJwOs95XZWqIiKAiIgIiICIiAiIgIiICIiAiIgIiIC87LXOY9rCGvLHBriMgOI4HHrXoiCt0rSI6vwC8nmo4yXuLstjGG+rgV6N0isHc4IIA/du3iJm7dnOc4689qnIpqNXK272g2tLileJHA7sMDsEgPDH72Bw7cO4+096nIiqboiIiCIiAiIgIiICIiAiIgIiICIiAiIg//9k='/>\n"
   ]
  },
  {
   "cell_type": "code",
   "execution_count": 5,
   "metadata": {
    "colab": {
     "base_uri": "https://localhost:8080/"
    },
    "id": "BKihXBaBr_Kc",
    "outputId": "9ede29fb-3952-4320-827d-c7397ef9ff68"
   },
   "outputs": [
    {
     "data": {
      "text/plain": [
       "array([[ 7.53288566e-02,  1.45263131e-01, -2.24975895e-02,\n",
       "         4.40968561e+00, -2.88465055e-01, -3.07180141e-01,\n",
       "        -4.40908289e-01, -7.04767903e-01,  5.19367240e-01],\n",
       "       [-2.10036918e-01, -1.95570764e-01, -1.67701170e-01,\n",
       "        -3.46657981e-01, -3.29432473e-01, -4.92892235e-01,\n",
       "        -1.28739247e-01, -5.30976095e-01,  2.42058788e-01],\n",
       "       [-3.42667514e-01, -3.17587508e-01, -3.05484311e-01,\n",
       "        -3.48226409e-01, -3.40655296e-01, -5.73303657e-01,\n",
       "        -3.49053704e-01, -5.10475802e-01, -3.55459588e-01],\n",
       "       [ 1.75447214e-01, -1.35836989e-01,  2.40021849e-01,\n",
       "        -3.24874266e-01,  1.48538573e+00,  1.59780474e+00,\n",
       "         9.42893513e-04,  3.09680178e+00, -6.33325702e-01],\n",
       "       [-3.52880944e-01, -3.01534486e-01, -3.16881157e-01,\n",
       "        -3.44741014e-01, -3.57023055e-01, -5.63730869e-01,\n",
       "        -4.36471172e-01, -6.76334688e-01, -1.05140880e-01]])"
      ]
     },
     "execution_count": 5,
     "metadata": {},
     "output_type": "execute_result"
    }
   ],
   "source": [
    "# Step 1: Load and Standardize the data (use of numpy only allowed)\n",
    "\n",
    "# Step 1: Load and Standardize the data (use of numpy only allowed)\n",
    "import pandas as pd\n",
    "import numpy as np\n",
    "import matplotlib.pyplot as plt\n",
    "\n",
    "file_path = 'content/covid_africa.csv'\n",
    "\n",
    "data = pd.read_csv(file_path)\n",
    "# Select only numerical columns for PCA (excluding country names)\n",
    "numerical_cols = ['Total Cases', 'Total Deaths', 'Total Recovered', 'Active Cases',\n",
    "                 'Tot Cases/ 1M pop', 'Deaths/ 1M pop', 'Total Tests', 'Tests/ 1M pop', 'Population']\n",
    "\n",
    "# Extract numerical data and handle missing values\n",
    "numeric_data = data[numerical_cols].fillna(0).values  # Replace NaN with 0 for simplicity\n",
    "\n",
    "# Standardize the data: (Data - Data Mean) / Data's Standard Deviation\n",
    "data_mean = np.mean(numeric_data, axis=0)\n",
    "data_std = np.std(numeric_data, axis=0)\n",
    "# Avoid division by zero for columns with zero standard deviation\n",
    "data_std[data_std == 0] = 1\n",
    "\n",
    "standardized_data = (numeric_data - data_mean) / data_std\n",
    "standardized_data[:5] # Display the first few rows of standardized data"
   ]
  },
  {
   "cell_type": "markdown",
   "metadata": {
    "id": "Fybn40Syr_Kd"
   },
   "source": [
    "### Step 3: Calculate the Covariance Matrix\n",
    "The covariance matrix helps us understand how the features are related to each other. It is a key component in PCA."
   ]
  },
  {
   "cell_type": "code",
   "execution_count": 6,
   "metadata": {
    "colab": {
     "base_uri": "https://localhost:8080/"
    },
    "id": "RbklA9tqr_Ke",
    "outputId": "c5ec3b5f-1572-45ae-de66-e11d84a8a897"
   },
   "outputs": [
    {
     "data": {
      "text/plain": [
       "array([[ 1.01886792,  0.99563389,  0.98183004,  0.46762794,  0.11407379,\n",
       "         0.51618861,  0.97033197,  0.26971644,  0.2335514 ],\n",
       "       [ 0.99563389,  1.01886792,  0.95026162,  0.52606354,  0.09304069,\n",
       "         0.50817262,  0.91755441,  0.21871981,  0.23333338],\n",
       "       [ 0.98183004,  0.95026162,  1.01886792,  0.46552399,  0.08446655,\n",
       "         0.37613777,  0.96706849,  0.23812469,  0.24544712],\n",
       "       [ 0.46762794,  0.52606354,  0.46552399,  1.01886792, -0.04581984,\n",
       "         0.0879343 ,  0.41591503, -0.05765491,  0.31718817],\n",
       "       [ 0.11407379,  0.09304069,  0.08446655, -0.04581984,  1.01886792,\n",
       "         0.66789186,  0.05118832,  0.24742459, -0.17839911],\n",
       "       [ 0.51618861,  0.50817262,  0.37613777,  0.0879343 ,  0.66789186,\n",
       "         1.01886792,  0.38335416,  0.58690512, -0.17574918],\n",
       "       [ 0.97033197,  0.91755441,  0.96706849,  0.41591503,  0.05118832,\n",
       "         0.38335416,  1.01886792,  0.27553389,  0.34497124],\n",
       "       [ 0.26971644,  0.21871981,  0.23812469, -0.05765491,  0.24742459,\n",
       "         0.58690512,  0.27553389,  1.01886792, -0.26347646],\n",
       "       [ 0.2335514 ,  0.23333338,  0.24544712,  0.31718817, -0.17839911,\n",
       "        -0.17574918,  0.34497124, -0.26347646,  1.01886792]])"
      ]
     },
     "execution_count": 6,
     "metadata": {},
     "output_type": "execute_result"
    }
   ],
   "source": [
    "# Step 3: Calculate the Covariance Matrix\n",
    "n_samples = standardized_data.shape[0]\n",
    "cov_matrix = np.dot(standardized_data.T, standardized_data) / (n_samples - 1)\n",
    "cov_matrix"
   ]
  },
  {
   "cell_type": "markdown",
   "metadata": {
    "id": "dWzqXsR0r_Ke"
   },
   "source": [
    "### Step 4: Perform Eigendecomposition\n",
    "Eigendecomposition of the covariance matrix will give us the eigenvalues and eigenvectors, which are essential for PCA.\n",
    "Fill in the code to compute the eigenvalues and eigenvectors of the covariance matrix."
   ]
  },
  {
   "cell_type": "code",
   "execution_count": 7,
   "metadata": {
    "id": "8Tm0rzdAr_Ke"
   },
   "outputs": [
    {
     "data": {
      "text/plain": [
       "(array([0.00686394, 0.02652184, 0.05098704, 0.24283695, 0.60147125,\n",
       "        0.67082009, 0.89057157, 2.06362374, 4.61611488]),\n",
       " array([[-0.85781665,  0.05234603, -0.00415149,  0.09037585, -0.17049446,\n",
       "         -0.02700694,  0.09458899,  0.04079655, -0.46132015],\n",
       "        [ 0.34022172,  0.53325765,  0.53917487,  0.2543641 , -0.16544411,\n",
       "          0.06789348,  0.05272142,  0.06289606, -0.45360565],\n",
       "        [ 0.22165572, -0.7213036 ,  0.26297771, -0.30971519, -0.20036995,\n",
       "         -0.03068335,  0.12884374,  0.09063288, -0.44677116],\n",
       "        [-0.00488831, -0.02836148, -0.10987424, -0.07323122,  0.41756288,\n",
       "          0.75134977, -0.32800398,  0.27056049, -0.24912194],\n",
       "        [-0.0492857 ,  0.15822482,  0.09811375, -0.48124766, -0.17972353,\n",
       "         -0.07004236, -0.66361773, -0.49468937, -0.09485604],\n",
       "        [ 0.13445529, -0.29371473, -0.22970336,  0.68001675,  0.09069022,\n",
       "         -0.0297793 , -0.21523685, -0.50295836, -0.26844269],\n",
       "        [ 0.27601566,  0.26610839, -0.72496489, -0.23741048, -0.08344536,\n",
       "         -0.19467978,  0.13797873,  0.10260156, -0.44343579],\n",
       "        [-0.04459886,  0.08869574,  0.16103634, -0.26142337,  0.6895325 ,\n",
       "         -0.08748304,  0.42301323, -0.45528035, -0.1629122 ],\n",
       "        [-0.02374041, -0.04276526,  0.1189406 ,  0.08436114,  0.4539929 ,\n",
       "         -0.61469253, -0.42354734,  0.44437648, -0.12459772]]))"
      ]
     },
     "execution_count": 7,
     "metadata": {},
     "output_type": "execute_result"
    }
   ],
   "source": [
    "# Step 4: Perform Eigendecomposition\n",
    "eigenvalues, eigenvectors = np.linalg.eigh(cov_matrix)  \n",
    "eigenvalues, eigenvectors"
   ]
  },
  {
   "cell_type": "markdown",
   "metadata": {
    "id": "bp6o_4sTr_Kf"
   },
   "source": [
    "### Step 5: Sort Principal Components\n",
    "Sort the eigenvectors based on their corresponding eigenvalues in descending order. The higher the eigenvalue, the more important the eigenvector.\n",
    "Complete the code to sort the eigenvectors and print the sorted components.\n",
    "\n",
    "<a url ='https://www.youtube.com/watch?v=vaF-1xUEXsA&t=17s'>How Is Explained Variance Used In PCA?'<a/>"
   ]
  },
  {
   "cell_type": "code",
   "execution_count": 8,
   "metadata": {
    "id": "jpfoRz-Xr_Kf"
   },
   "outputs": [
    {
     "name": "stdout",
     "output_type": "stream",
     "text": [
      "\n",
      "Sorted Eigenvalues (descending order):\n",
      "[4.61611488 2.06362374 0.89057157 0.67082009 0.60147125 0.24283695\n",
      " 0.05098704 0.02652184 0.00686394]\n",
      "\n",
      "Sorted Eigenvectors shape: (9, 9)\n"
     ]
    }
   ],
   "source": [
    "# Step 5: Sort Principal Components\n",
    "sorted_indices = np.argsort(eigenvalues)[::-1]\n",
    "\n",
    "# Sort eigenvalues and eigenvectors accordingly\n",
    "sorted_eigenvalues = eigenvalues[sorted_indices]\n",
    "sorted_eigenvectors = eigenvectors[:, sorted_indices]\n",
    "\n",
    "print(\"\\nSorted Eigenvalues (descending order):\")\n",
    "print(sorted_eigenvalues)\n",
    "print(\"\\nSorted Eigenvectors shape:\", sorted_eigenvectors.shape)"
   ]
  },
  {
   "cell_type": "markdown",
   "metadata": {
    "id": "uxbmuO27r_Kg"
   },
   "source": [
    "### Step 6: Project Data onto Principal Components\n",
    "Now that we’ve selected the number of components, we will project the original data onto the chosen principal components.\n",
    "Fill in the code to perform the projection."
   ]
  },
  {
   "cell_type": "code",
   "execution_count": 9,
   "metadata": {
    "id": "ubjIMAtWr_Kg"
   },
   "outputs": [
    {
     "name": "stdout",
     "output_type": "stream",
     "text": [
      "\n",
      "Number of components to explain 95% variance: 5\n",
      "\n",
      "Reduced Data Shape: (54, 5)\n",
      "First 5 rows of reduced data:\n",
      "[[-0.83370033  2.00688042 -1.75590104  3.17932699  1.6195589 ]\n",
      " [ 0.6238825   0.61710978  0.04172926 -0.30244647 -0.27396642]\n",
      " [ 0.99381882  0.3396468   0.2616186   0.10746864 -0.44823879]\n",
      " [-1.04145322 -3.29721534  0.39564607 -0.29884166  1.5345    ]\n",
      " [ 1.0290504   0.521211    0.07944467 -0.00967661 -0.43503215]]\n"
     ]
    }
   ],
   "source": [
    "# Step 6: Project Data onto Principal Components\n",
    "explained_variance_ratio = sorted_eigenvalues / np.sum(sorted_eigenvalues)\n",
    "cumulative_variance = np.cumsum(explained_variance_ratio)\n",
    "\n",
    "num_components = np.argmax(cumulative_variance >= 0.95) + 1\n",
    "print(f\"\\nNumber of components to explain 95% variance: {num_components}\")\n",
    "\n",
    "reduced_data = np.dot(standardized_data, sorted_eigenvectors[:, :num_components])\n",
    "\n",
    "print(f'\\nReduced Data Shape: {reduced_data.shape}')\n",
    "print(\"First 5 rows of reduced data:\")\n",
    "print(reduced_data[:5])"
   ]
  },
  {
   "cell_type": "markdown",
   "metadata": {
    "id": "XVq-b6vtr_Kg"
   },
   "source": [
    "### Step 7: Output the Reduced Data\n",
    "Finally, display the reduced data obtained by projecting the original dataset onto the selected principal components."
   ]
  },
  {
   "cell_type": "code",
   "execution_count": 10,
   "metadata": {
    "id": "5D0uzRyPr_Kg"
   },
   "outputs": [
    {
     "name": "stdout",
     "output_type": "stream",
     "text": [
      "Reduced Data Shape: (54, 5)\n"
     ]
    },
    {
     "data": {
      "text/plain": [
       "array([[-0.83370033,  2.00688042, -1.75590104,  3.17932699,  1.6195589 ],\n",
       "       [ 0.6238825 ,  0.61710978,  0.04172926, -0.30244647, -0.27396642],\n",
       "       [ 0.99381882,  0.3396468 ,  0.2616186 ,  0.10746864, -0.44823879],\n",
       "       [-1.04145322, -3.29721534,  0.39564607, -0.29884166,  1.5345    ],\n",
       "       [ 1.0290504 ,  0.521211  ,  0.07944467, -0.00967661, -0.43503215]])"
      ]
     },
     "execution_count": 10,
     "metadata": {},
     "output_type": "execute_result"
    }
   ],
   "source": [
    "# Step 7: Output the Reduced Data\n",
    "print(f'Reduced Data Shape: {reduced_data.shape}')  # Display reduced data shape\n",
    "reduced_data[:5]  # Display the first few rows of reduced data"
   ]
  },
  {
   "cell_type": "markdown",
   "metadata": {
    "id": "S1f8ROm5r_Kg"
   },
   "source": [
    "### Step 8: Visualize Before and After PCA\n",
    "Now, let's plot the original data and the data after PCA to compare the reduction in dimensions visually."
   ]
  },
  {
   "cell_type": "code",
   "execution_count": 12,
   "metadata": {
    "id": "WwuppWV-r_Kg"
   },
   "outputs": [
    {
     "data": {
      "image/png": "[encoded data removed]",
      "text/plain": [
       "<Figure size 1200x500 with 1 Axes>"
      ]
     },
     "metadata": {},
     "output_type": "display_data"
    }
   ],
   "source": [
    "# Step 8: Visualize Before and After PCA\n",
    "plt.figure(figsize=(12, 5))\n",
    "\n",
    "# Plot original data (first two features for simplicity)\n",
    "plt.subplot(1, 2, 1)\n",
    "plt.scatter(standardized_data[:, 0], standardized_data[:, 1], alpha=0.7, c='blue')\n",
    "plt.xlabel(f'{numerical_cols[0]} (standardized)')\n",
    "plt.ylabel(f'{numerical_cols[1]} (standardized)')\n",
    "plt.title('Original Data (First 2 Features)')\n",
    "plt.grid(True, alpha=0.3)\n",
    "\n",
    "# Plot reduced data after PCA\n"
   ]
  }
 ],
 "metadata": {
  "colab": {
   "provenance": []
  },
  "kernelspec": {
   "display_name": "Python 3",
   "name": "python3"
  },
  "language_info": {
   "codemirror_mode": {
    "name": "ipython",
    "version": 3
   },
   "file_extension": ".py",
   "mimetype": "text/x-python",
   "name": "python",
   "nbconvert_exporter": "python",
   "pygments_lexer": "ipython3",
   "version": "3.11.9"
  }
 },
 "nbformat": 4,
 "nbformat_minor": 0
}
