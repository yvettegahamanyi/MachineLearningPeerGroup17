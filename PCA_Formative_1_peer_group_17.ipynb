{
  "cells": [
    {
      "cell_type": "markdown",
      "metadata": {
        "id": "JqkivgEHr_KW"
      },
      "source": [
        "# Formative Assignment: Advanced Linear Algebra (PCA)\n",
        "This notebook will guide you through the implementation of Principal Component Analysis (PCA). Fill in the missing code and provide the required answers in the appropriate sections. You will work with the `fuel_econ.csv` dataset.\n",
        "\n",
        "Make sure to display outputs for each code cell when submitting."
      ]
    },
    {
      "cell_type": "markdown",
      "metadata": {
        "id": "xycIp758r_Kb"
      },
      "source": [
        "### Step 1: Load and Standardize the Data\n",
        "Before applying PCA, we must standardize the dataset. Standardization ensures that all features have a mean of 0 and a standard deviation of 1, which is essential for PCA.\n",
        "Fill in the code to standardize the dataset.\n",
        "\n",
        "STRICTLY - Write code that implements standardization based on the image below\n",
        "\n",
        "<img src='data:image/jpeg;base64,/9j/4AAQSkZJRgABAQAAAQABAAD/2wCEAAkGBw8NEQ4NDxIPDw8RDhAQDxANEA8SDxAQFhIWGBUVGBUkKCgsGBslGxUYIT0hJSs3OjouFyIzOTMtQygtLysBCgoKDg0OGhAQGy8mHSUtKy03LS8tLS0tKy0tMDU3LS0tLS0tLS0tLS02LTItLS0tLS0tLS01LS0tLS0tKy8tLf/AABEIAJ4BPwMBIgACEQEDEQH/xAAcAAEAAgIDAQAAAAAAAAAAAAAABAUGBwECAwj/xABHEAABBAECAQcGCQkHBQAAAAABAAIDBBEFEiEGEyIxQVFhBxQVcYGTMjRCUnShs9HSIzNjgpGSlbHUFiQlU1Ryc0RiZKLB/8QAFwEBAQEBAAAAAAAAAAAAAAAAAAECA//EACERAQEAAgEEAwEBAAAAAAAAAAABAhEhBBITFAMxUUFh/9oADAMBAAIRAxEAPwDeKIiAiIgIiICIiAiIgIiIOHuDQSSAAMkk4AHequDlLp8nOlluo8RY50tniIjycDcc8OJx61hvlxqXpqUYqh7oWyOdcZFkvMe3okj5TAckj1HsKxbkfoei3aeoagI52c1TMdmo+V3NM2MZJva8Yc4OfCHcT15GF3x+KXDutYuVl029Bygoyv5qO1Vkk2udsjnic7a0Zc7APUB2rrV5RUZ3mGK1Wlkax0jmRTRvcGNxlxAPADI/atE8nakNLQ7+qlv97nfJQrv3OGIpAxsmG5xnhIc4z0V4ci2eYTas/qdDoMx9UsrK5A9jn49i6Xp5zq/TPk+m+Byr04wvtC3WNdjwx8rZWmNrzjDSe/iOC7y8ptPZIIH26rZiQBE6eMSbj1DbnIPgvmzkw98zq+lYPN2NSpSvB+Y0Pa7I7i14P6qkalHBZr6vqkvGSXU2x1ME9b3ySy8O0c3t+pa9WS6tSfLbH0pqOr1amDZngrgglvPyxx5A68ZIyvGXlDRZFHZfZrMhkBMcr5o2skA6y0k8fYvn3lzPLalEcxc46dpNSKTcf+odzQk49p3zYP8Axld+U92FreTsU7HTQwaVXmlia7aZBKS4s3fJyGDj3FZnTbk5PL9t/Rco6D4jabaqmBrtrphPHzbXfNLs4B8F60NbqWWPmgsQTRs/OPilY5jO3pEHh7V8/wCt6LLV06tHtbDJqupNnhrxvMjYoGxlsLdxJ3HMzTnPVheVzZRl5RR08io2s2kRuc4GR80TDxPXxbYx4ZT1pZxV8l/H0TBqdeRnOsmhfHkgPZIwsJBwRuzjgeC6u1eqGvkM8AYwgSPMse1hPUHHPDPitB8sdFpwafoweZn6hJRibDVj2bGiSR0r5HDBJJdLtAB4keBXtr3J52m09L0UnFnULjbNsNxtjADY2M9Td2c97CVJ0+N1yeS/jd8HKShIx8rLVV0bHhj5BNHzbXkZDS7OMnuSPlHQcXNbbqOLW73htiI7W5AyePAZcB7VpXkdUry8n9bkmZvYyy6SEFz24mbXj5o8CM9J44FVVvS46+hVZmMPnepWzG47ndKCJ7yxob1DpsYeA7VfXx3rf90eSvoS3rVSCEW5Z4WV3BpbM6RvNuDvg7XfKz4KO/lRp7YI7brVZteR2yOZ0rBG54zloPfwPDwWo4NH9P3Z60kr4dL0iBtdnN7Rgxt2EjORkmN5LsfBa0duVg1iR40yrBglkuoXLMfeWRwQx7sdgyZP3SmPTS8b5L8ln8fTzNYrOmbVbNGZ3Rc82JrgXmLsfj5vipy055FZH3rlq9IDmDT6dJhPHgGgO4+PM5/WW41w+XDsy7W8cu6bERFzaEREBERAREQEREBERAREQEREBERAREQEREGEeUDTNbmlrTaTOyJsbJGyRucG7nOI6RyHB4wAMEcOJ454UumeT23S0nUKkb4pb17YJOkWwsZkAtDsceiXnOOs9S2ii6T5cpNRntm9tRXvJtflpaRpgdXEVeaaa67nH8XySk/k+j0iGOeOOOJUGXyW34xqsdUVo4rTmRVmunkLmV22GyZeSD1tY0YyTxW60W51GaeONQs8mVyC6bsBgLIaTY4GF7t8lhun8w09WGjnADklccifJZYidA/UnRGGtI6aGpC7cHzHb05H46ug3gM/BHHrB2+il6jPWjxxpCz5J788dyxN5u7UJ7bZIyJ5Oaijc57pSTt4klwGMHAHBWEPkutyvsOsvr7BpMdKqGue4iaOCJjXnhwbvY89/S6lt9FfYzPHi0zf8nmsn0RCySs/zCN2yd7nBsbzNvADMEu2BrMHHYO5S9e8l04oV9NpPY977PnF6zYcWGVwYWtwOPAbzgeHE5JK22insZ8HZGmb/k21mW/LfisVoiJneave97nxwty2IbdhDcMwMf8A3ivWfybalesCbU5IbLIab4WFs0ofPKGvdGT0Rtbzj+/qaOC3CivsZnjjUlXyfajDotjSga5sWbzJnkSu5tsQEXAu29eYhwA7VKu8gbkjuT0OYfNtOZE6yd7gXy84x0mxuOI/J9Zx8JbRRTz5HZGmW+TfWGz3q0VmODTrkznzvaQZJIi5xDdmMh2HEYyAfHqVtqvk5lktw8yI2UKulzVYGOkPOPmkimaXEY7XSgkk9bVtBEvz5nZGFeSzkjNo1eaOw6J00s/OHmS5zWsEbWhuSBk5Dj7VmqIueWVyu61JqagiIsqIiICIiAiIgIiICIiAiIgKqv8AKCvXkMEhkEnNukYBFK7ndpYC2PA6b8yM6LePS8Di1WPahpFqaxBbEkAdXmk5qMseWcxJG5ri45yZMlh4YHQx8okWa/qVfNlBaHHoggHp9EjPYR2FBK08A5p9RC87dOKdvNzRxysJBLJWNezI6jgqLW0GlC5skdWrHI05a+OCJr2nGODgOHAqHKRYvRxPghcTvnc9sYDSclrC92T2DDTxPbgdqafejsxtmiJdG4uDSQRna4tJ9WWniqHVK9ifUGcy7m216Dxzj2OLd9mTG5nY57BX6j/mg+BtOTWnvp1a1V5YXQwsizHu2nY0DPHrJxn2rVk0LNERZUREQEREBERARFR0hc9IW+ckjdU82rmGIB2+N+6QF2e3OHZ9TfFWQXiIigIiICIiAiIgIiICIiAiIgIiICIiAiIgLHOWVprWwRA4nfI4wl75GV2YYQ6SYgjcxodnZnpO2jxGRorLpKq+TkDI6sLY3zStLNwksF/PSF3Eudni3JOcdQHAAYwqT0Zc+Za/isn4VlwC5TZp5VmkMYHZ3BjQcu3HOOOXdvrVZYrakXvMdmkyMuOxr6Ez3tb2AuEw3HxwPUrhElNKLzXVf9XQ/h0/9QufNdV/1dD+HT/1Cma9qJqV5bDW845oAjZnaHyOcGsaT2AucBlVWkWbjrs1aeZj2w168rxDAGRmSYzAx5JJG0Rtd19TuK1zraJHmmq/6uh/Dp/6hWOmR2WtIsyQzP3Za6vA+BobgcC0vfk5zxz29SmIs7XQiIooiIgIiICIiAoEPxqf6NW+0sKeoEPxqf6NW+0sKonoiKKIiICIiAiIgIiICIiAiIgIiICIiAiIgIiICIiAiIg87EDJWujka17HAhzXgFrgewhedSlFAHCNjWbnbnkDi92ANzj1uOABk9ykIgIiICIiAiIgIiICIiAoEPxqf6NW+0sKeq+Fw87nGRnzWtw7fzlhEWCIiKIiICIiAiIgIiICIiAiIgIiICIiAiIgIiICIiAiIgIiICIiAiIgIiICIiAiIgoeV2ryVY44awDrtqQQVGuGWh5GXSuHzWNBcfUB2rHv7CxNfLzEkjNQjggmZqDnOM77JfNuMnzmO2gFnVgeCstBHn9+3qR4w1y6hS7jtINmUet42Z7o1fQ/Gp/o1b7SwjVvbxEbktrPn1dsr281Ox7obUPbFYjOHt9WeIPcQrhYnY/w/VI5Rwr6mBDJ3NvRNJjd+vGC31xtWQnUI+dFfpGQ9zXFo4ZwXdQOCDjxHehZ+JaKPHcY5xYCdwznouA4dfHCU7XO850S0skdGQSDnABz9aJpIRERBERAREQEREBERAREQEREBERAREQEREBERAREQEREBERAREQEREBUXLPVX1KrzDxszObWqN77Ep2sPqGS4+DSr1YhRPpS+bfXT090kNY9k1w9GaUd4YOgD3lyNYzlf6BpbKNaCozi2KNrMnrc75Tj4k5PtXMPxqf6NW+0sKeoEXxqb6NX+0nSM3lF5XaSb1SaFh2zDbLWf8yxE4Pid+80ewlccmbsV6CG+1gbJLHiTh0mSDDZGHuIczaf9g7grpYjpf8Ah2o2KZ4V7+65Vz8FtkYFmIevoyAeL0an1plTYGAlwa0OPWQ0An2riCuyPcWjG9xe7iTlx7V6ojIiIgIiICIiAiIgIiICIiAiIgIiICIiAiIgIiICIiAiIgIiICIiAihalq9Wo3fZnhgb3zSMZ/PrVBJywda6Gl1pbjj1WJWugos8TK4Zf6mA+sIslqRyy1ORjIqFU/326TFERxMEWPytg9wa3q/7i1W+jabFTghqwjbFDG1jB24Hae8k8faq7k5yfdWdLbsyec3pwBNNt2sYwfBhib8iMd3aeJ4q+RbeNQUCL41N9Gr/AGk6nqBF8am+jV/tJ0ZT1T8qNE8/hDGv5mxE9s1WcDJhsN+C7xHWCO0EhXCIKPktr3nrJI5W8zdruEduuTxjkxwc3vjcOId3eoq8VByi5PGw9lyrJ5tfiaWxzhu5kjM5MMzflxk+0HiFGocrmse2rqUfmFo8GmQ5qWD3wz9Rz812HeCNWb5jKEXAOVyjIiIgIiICIiAiIgIiICIiAiIgIiICi6lfjqxSWJdwjjaXPLGPkdjwa0En9ilIgqNN5R17UMViPndksbZGZgmztcMjOAR9ak+lof0vuJ/wqY1gHAcB2AcAuyvCcoPpaH9L7if8Kelof0vuJ/wqcihyg+lof0vuJ/wqDq/KaOrGJGwXbRLg3m6taR0nEE5wcDHDv7QrxEWMLby1tSfm9Kugdhsuji/aBuIXH9oNWf8ABqU4PGaa7Kf2NiH81mqKtbn4wnnNVl/OXoa47qWmWHPH60m4f+q49AwS/Gr2r2e8F9mCM/qRtYs2RE7qxbTtF0eq7fFVYJP8x9WaSX99zSfrV2NUh/Se4n/Cp64US21C9Kw/pPcT/hT0rD3ye4n/AAqaiIhelYe+T3E/4VDj1GPziV/5Xaa8LQeYnwXB8pI+D3OH7VOpalFOdsZJPNsl4gjoPc9rT7djlw3UmF2zbPndtya9gNzn523GPHKbjXbXHpWHvk9zP+FPSsPfJ7mb8KianrLoZHMa0ObGyu+XJOS2aYxjb4ja48evgPFXCm4XGybqF6Wh75Pcz/hXhcs1LDHRTM52Nww5kteVzHDxBarTC5VTlg40CvB8Qt6jQHZFEJZaw9UMjXBo8G4XYz6tH8C7VnH/AJOmWmOPtY7H1LNkRe6sKHKDV2ddajN4xTXYvqdEf5rsOVeoj4Wmg/8AHbJH1xhZmiuzf+MLPLK4OvS7R/2zRH7ld6Xr7ZomyTRT1pCXAwyMe9zcEgHLQQc9ftVxhcoWoPpaHvk9zN9yeloe+T3M33KcijPKD6Wh75PczfcnpaHvk9zN9ynIhyg+loe9/uZvuT0tD3v91N9ynIgqNL5SVbc9mpE5/PVy3nWuikaMOaHAhxGDwd1dfgrddWsAyQAMnJwOs95XZWqIiKAiIgIiICIiAiIgIiICIiAiIgIiIC87LXOY9rCGvLHBriMgOI4HHrXoiCt0rSI6vwC8nmo4yXuLstjGG+rgV6N0isHc4IIA/du3iJm7dnOc4689qnIpqNXK272g2tLileJHA7sMDsEgPDH72Bw7cO4+096nIiqboiIiCIiAiIgIiICIiAiIgIiICIiAiIg//9k='/>\n"
      ]
    },
    {
      "cell_type": "code",
      "execution_count": 28,
      "metadata": {
        "colab": {
          "base_uri": "https://localhost:8080/"
        },
        "id": "BKihXBaBr_Kc",
        "outputId": "605cec6a-2488-4826-e429-38dabd733df5"
      },
      "outputs": [
        {
          "output_type": "stream",
          "name": "stdout",
          "text": [
            "(54, 63)\n"
          ]
        }
      ],
      "source": [
        "# Step 1: Load and Standardize the data (use of numpy only allowed)\n",
        "import pandas as pd\n",
        "import numpy as np\n",
        "import matplotlib.pyplot as plt\n",
        "\n",
        "file_path = '/content/covid_africa.csv'\n",
        "\n",
        "data = pd.read_csv(file_path)\n",
        "\n",
        "# Encode all non-numeric columns\n",
        "data_encoded = pd.get_dummies(data)\n",
        "\n",
        "# Convert to NumPy and ensure float type\n",
        "numeric_data = data_encoded.fillna(0).astype(float).values\n",
        "\n",
        "\n",
        "# Standardize the data: (Data - Data Mean) / Data's Standard Deviation\n",
        "data_mean = np.mean(numeric_data, axis=0)\n",
        "data_std = np.std(numeric_data, axis=0)\n",
        "# Avoid division by zero for columns with zero standard deviation\n",
        "data_std[data_std == 0] = 1\n",
        "\n",
        "standardized_data = (numeric_data - data_mean) / data_std\n",
        "standardized_data[:5]\n",
        "\n",
        "print(standardized_data.shape)"
      ]
    },
    {
      "cell_type": "markdown",
      "metadata": {
        "id": "Fybn40Syr_Kd"
      },
      "source": [
        "### Step 3: Calculate the Covariance Matrix\n",
        "The covariance matrix helps us understand how the features are related to each other. It is a key component in PCA."
      ]
    },
    {
      "cell_type": "code",
      "execution_count": 29,
      "metadata": {
        "colab": {
          "base_uri": "https://localhost:8080/"
        },
        "id": "RbklA9tqr_Ke",
        "outputId": "6cf96410-27b4-45ac-be38-e0a805607713"
      },
      "outputs": [
        {
          "output_type": "execute_result",
          "data": {
            "text/plain": [
              "array([[ 1.01886792,  0.99563389,  0.98183004, ..., -0.01345422,\n",
              "         0.02911999,  0.00907659],\n",
              "       [ 0.99563389,  1.01886792,  0.95026162, ..., -0.01099794,\n",
              "        -0.00678425,  0.00911591],\n",
              "       [ 0.98183004,  0.95026162,  1.01886792, ..., -0.02423258,\n",
              "         0.03723199,  0.01619954],\n",
              "       ...,\n",
              "       [-0.01345422, -0.01099794, -0.02423258, ...,  1.01886792,\n",
              "        -0.01922392, -0.01922392],\n",
              "       [ 0.02911999, -0.00678425,  0.03723199, ..., -0.01922392,\n",
              "         1.01886792, -0.01922392],\n",
              "       [ 0.00907659,  0.00911591,  0.01619954, ..., -0.01922392,\n",
              "        -0.01922392,  1.01886792]])"
            ]
          },
          "metadata": {},
          "execution_count": 29
        }
      ],
      "source": [
        "# Step 3: Calculate the Covariance Matrix\n",
        "n_samples = standardized_data.shape[0]\n",
        "cov_matrix = np.dot(standardized_data.T, standardized_data) / (n_samples - 1)\n",
        "cov_matrix"
      ]
    },
    {
      "cell_type": "markdown",
      "metadata": {
        "id": "dWzqXsR0r_Ke"
      },
      "source": [
        "### Step 4: Perform Eigendecomposition\n",
        "Eigendecomposition of the covariance matrix will give us the eigenvalues and eigenvectors, which are essential for PCA.\n",
        "Fill in the code to compute the eigenvalues and eigenvectors of the covariance matrix."
      ]
    },
    {
      "cell_type": "code",
      "execution_count": 30,
      "metadata": {
        "colab": {
          "base_uri": "https://localhost:8080/"
        },
        "id": "8Tm0rzdAr_Ke",
        "outputId": "55215dc4-01a6-434f-ae33-2a962b05d854"
      },
      "outputs": [
        {
          "output_type": "execute_result",
          "data": {
            "text/plain": [
              "(array([-1.25010412e-15, -5.66608740e-16, -3.82543469e-16, -2.47890451e-16,\n",
              "        -8.71018940e-18,  3.04190387e-16,  3.60326256e-16,  4.66440123e-16,\n",
              "         5.81331181e-16,  1.23198779e-15,  1.03809185e+00,  1.03809185e+00,\n",
              "         1.03809185e+00,  1.03809185e+00,  1.03809185e+00,  1.03809185e+00,\n",
              "         1.03809185e+00,  1.03809185e+00,  1.03809185e+00,  1.03809185e+00,\n",
              "         1.03809185e+00,  1.03809185e+00,  1.03809185e+00,  1.03809185e+00,\n",
              "         1.03809185e+00,  1.03809185e+00,  1.03809185e+00,  1.03809185e+00,\n",
              "         1.03809185e+00,  1.03809185e+00,  1.03809185e+00,  1.03809185e+00,\n",
              "         1.03809185e+00,  1.03809185e+00,  1.03809185e+00,  1.03809185e+00,\n",
              "         1.03809185e+00,  1.03809185e+00,  1.03809185e+00,  1.03809185e+00,\n",
              "         1.03809185e+00,  1.03809185e+00,  1.03809185e+00,  1.03809185e+00,\n",
              "         1.03809185e+00,  1.03809185e+00,  1.03809185e+00,  1.03809185e+00,\n",
              "         1.03809185e+00,  1.03809185e+00,  1.03809185e+00,  1.03809185e+00,\n",
              "         1.03809185e+00,  1.03809185e+00,  1.04495579e+00,  1.06461368e+00,\n",
              "         1.08907889e+00,  1.28092880e+00,  1.63956310e+00,  1.70891194e+00,\n",
              "         1.92866342e+00,  3.10171559e+00,  5.65420673e+00]),\n",
              " array([[-0.22377314,  0.        ,  0.        , ...,  0.06427569,\n",
              "         -0.03327651, -0.41682609],\n",
              "        [ 0.13247042, -0.18723776, -0.10903499, ...,  0.03582558,\n",
              "         -0.0513024 , -0.40985564],\n",
              "        [-0.2252524 ,  0.0101792 ,  0.03304372, ...,  0.08755269,\n",
              "         -0.07392648, -0.40368034],\n",
              "        ...,\n",
              "        [-0.14856861,  0.02299742, -0.19028317, ..., -0.13980495,\n",
              "         -0.10111228, -0.01903716],\n",
              "        [-0.04443138, -0.07818214, -0.05450482, ...,  0.04972978,\n",
              "         -0.00115798, -0.0094105 ],\n",
              "        [-0.01964759, -0.06318097, -0.06814638, ...,  0.03545477,\n",
              "          0.00999061, -0.00228481]]))"
            ]
          },
          "metadata": {},
          "execution_count": 30
        }
      ],
      "source": [
        "# Step 4: Perform Eigendecomposition\n",
        "eigenvalues, eigenvectors = np.linalg.eigh(cov_matrix)\n",
        "eigenvalues, eigenvectors"
      ]
    },
    {
      "cell_type": "markdown",
      "metadata": {
        "id": "bp6o_4sTr_Kf"
      },
      "source": [
        "### Step 5: Sort Principal Components\n",
        "Sort the eigenvectors based on their corresponding eigenvalues in descending order. The higher the eigenvalue, the more important the eigenvector.\n",
        "Complete the code to sort the eigenvectors and print the sorted components.\n",
        "\n",
        "<a url ='https://www.youtube.com/watch?v=vaF-1xUEXsA&t=17s'>How Is Explained Variance Used In PCA?'<a/>"
      ]
    },
    {
      "cell_type": "code",
      "execution_count": 31,
      "metadata": {
        "colab": {
          "base_uri": "https://localhost:8080/"
        },
        "id": "jpfoRz-Xr_Kf",
        "outputId": "109d2460-587b-4538-fc5a-b3074dcc3353"
      },
      "outputs": [
        {
          "output_type": "stream",
          "name": "stdout",
          "text": [
            "\n",
            "Sorted Eigenvalues (descending order):\n",
            "[ 5.65420673e+00  3.10171559e+00  1.92866342e+00  1.70891194e+00\n",
            "  1.63956310e+00  1.28092880e+00  1.08907889e+00  1.06461368e+00\n",
            "  1.04495579e+00  1.03809185e+00  1.03809185e+00  1.03809185e+00\n",
            "  1.03809185e+00  1.03809185e+00  1.03809185e+00  1.03809185e+00\n",
            "  1.03809185e+00  1.03809185e+00  1.03809185e+00  1.03809185e+00\n",
            "  1.03809185e+00  1.03809185e+00  1.03809185e+00  1.03809185e+00\n",
            "  1.03809185e+00  1.03809185e+00  1.03809185e+00  1.03809185e+00\n",
            "  1.03809185e+00  1.03809185e+00  1.03809185e+00  1.03809185e+00\n",
            "  1.03809185e+00  1.03809185e+00  1.03809185e+00  1.03809185e+00\n",
            "  1.03809185e+00  1.03809185e+00  1.03809185e+00  1.03809185e+00\n",
            "  1.03809185e+00  1.03809185e+00  1.03809185e+00  1.03809185e+00\n",
            "  1.03809185e+00  1.03809185e+00  1.03809185e+00  1.03809185e+00\n",
            "  1.03809185e+00  1.03809185e+00  1.03809185e+00  1.03809185e+00\n",
            "  1.03809185e+00  1.23198779e-15  5.81331181e-16  4.66440123e-16\n",
            "  3.60326256e-16  3.04190387e-16 -8.71018940e-18 -2.47890451e-16\n",
            " -3.82543469e-16 -5.66608740e-16 -1.25010412e-15]\n",
            "\n",
            "Sorted Eigenvectors shape: (63, 63)\n"
          ]
        }
      ],
      "source": [
        "# Step 5: Sort Principal Components\n",
        "sorted_indices = np.argsort(eigenvalues)[::-1]\n",
        "\n",
        "# Sort eigenvalues and eigenvectors accordingly\n",
        "sorted_eigenvalues = eigenvalues[sorted_indices]\n",
        "sorted_eigenvectors = eigenvectors[:, sorted_indices]\n",
        "\n",
        "print(\"\\nSorted Eigenvalues (descending order):\")\n",
        "print(sorted_eigenvalues)\n",
        "print(\"\\nSorted Eigenvectors shape:\", sorted_eigenvectors.shape)"
      ]
    },
    {
      "cell_type": "markdown",
      "metadata": {
        "id": "uxbmuO27r_Kg"
      },
      "source": [
        "### Step 6: Project Data onto Principal Components\n",
        "Now that we’ve selected the number of components, we will project the original data onto the chosen principal components.\n",
        "Fill in the code to perform the projection."
      ]
    },
    {
      "cell_type": "code",
      "execution_count": 32,
      "metadata": {
        "colab": {
          "base_uri": "https://localhost:8080/"
        },
        "id": "ubjIMAtWr_Kg",
        "outputId": "1b71ac91-4153-4dbf-84e4-066d1d5711a7"
      },
      "outputs": [
        {
          "output_type": "stream",
          "name": "stdout",
          "text": [
            "\n",
            "Number of components to explain 85% variance: 44\n",
            "First 5 rows of reduced data:\n",
            "[[-9.22693601e-01 -2.46040854e+00 -2.58400794e+00 -5.07448541e+00\n",
            "   2.67395058e+00  2.18926714e-02  4.72502722e-01 -1.17147600e+00\n",
            "   2.11506217e+00 -4.76710918e-02 -2.80600573e-01 -3.47251199e-01\n",
            "   4.19878883e-01  1.28666146e+00  3.19964666e-01 -4.69488669e-01\n",
            "  -1.60586878e-01 -3.85854768e-01 -4.18723646e-01 -6.55865442e-01\n",
            "  -1.44542220e+00 -1.14422696e+00  7.35822971e-02  2.10252835e-01\n",
            "   1.64008206e+00  1.27171252e+00 -3.34637764e-01  1.79054165e-01\n",
            "   1.17829837e-01  7.13060471e-01  3.86479006e-01 -1.28660152e+00\n",
            "   2.19002869e-01  7.14345877e-01  4.37281062e-01 -2.56162894e-01\n",
            "   7.35274642e-01 -1.13543042e+00 -8.33861742e-01  3.56162300e-01\n",
            "   3.79682949e-01  8.98954956e-01 -1.10101199e+00  1.81590224e-01]\n",
            " [ 6.90478787e-01 -7.56568327e-01  6.14093551e-02  4.82731163e-01\n",
            "  -4.52328517e-01 -4.99646343e-02 -3.20050828e-02  1.04226502e-01\n",
            "  -1.29838436e-01  5.85875042e-02 -6.00600205e-01 -3.11068258e-01\n",
            "  -4.00064016e-01  3.75746994e-01 -8.05276011e-01 -7.20186508e-01\n",
            "   8.50992232e-02  1.66694777e-01  3.98767540e-01 -2.36258987e-01\n",
            "   7.96189407e-01 -2.03943833e+00 -1.67041644e+00  4.31696549e-01\n",
            "   3.08162178e-01  3.70391229e-02 -6.16895419e-01 -2.03254896e+00\n",
            "   6.50642304e-01  9.67429954e-01  2.26460054e+00  5.17205162e-01\n",
            "  -1.66584980e-01  1.57479145e-01 -1.93615087e+00  9.88367962e-01\n",
            "   1.93710171e+00 -5.78102210e-01 -1.33457966e+00 -5.74014008e-01\n",
            "   5.31478297e-01  1.15197410e+00  2.22948204e+00 -2.15914739e+00]\n",
            " [ 1.09990393e+00 -4.16402434e-01  3.85001500e-01 -1.71529394e-01\n",
            "  -7.40058532e-01  7.17071254e-02 -6.90833978e-02  2.18300654e-01\n",
            "   6.84483575e-02  1.67905585e-02  3.04234583e-01  9.30971144e-01\n",
            "  -9.98587659e-01 -3.92714363e-01 -9.16684824e-01  7.36602494e-01\n",
            "   9.07876455e-01  4.91165572e-01  5.87089590e-01  7.61550253e-01\n",
            "   5.61890450e-01 -1.78778437e-02  1.46588839e+00  7.46646051e-01\n",
            "   7.65516554e-01  1.93261047e+00 -1.39841262e+00  1.55316413e+00\n",
            "   7.06606443e-01 -8.11510031e-01  2.27171402e+00  1.03434019e+00\n",
            "   3.15560547e-01  4.30323792e-01 -1.56731561e+00 -2.69341355e-01\n",
            "   7.76927551e-02  1.16348607e-01  9.24005174e-01  2.67416839e+00\n",
            "  -7.65031069e-01 -1.07076141e+00  1.20283239e+00  1.04339186e+00]\n",
            " [-1.15262306e+00  4.04234187e+00  5.82238163e-01  4.76977568e-01\n",
            "   2.53351524e+00  1.28793678e+00 -1.04565026e+00 -1.01011484e+00\n",
            "   1.51910372e+00 -1.05784185e+00 -5.92073298e-03 -1.25614186e+00\n",
            "  -4.61370277e-01  2.97019230e-01  1.14120731e+00 -1.67569893e-02\n",
            "   8.22640161e-01 -4.65578232e-01  2.58514121e-01 -5.92574063e-01\n",
            "   8.95598653e-01 -8.66071453e-01 -7.75082135e-01 -3.39035787e-03\n",
            "  -4.74784303e-01 -9.64913666e-01  8.67038117e-01  8.19516602e-01\n",
            "   2.34855007e+00  5.53067542e-01  2.63724523e-01 -1.42143523e-01\n",
            "   4.89493987e-01 -2.61178166e-01  6.75739902e-01 -3.68473137e-01\n",
            "   9.78053295e-03  2.42996893e+00  8.20335637e-01 -1.68414266e-01\n",
            "   2.10268616e-01 -1.04065796e+00 -8.48219994e-01 -1.15322740e+00]\n",
            " [ 1.13889630e+00 -6.38997704e-01  1.16911855e-01  1.54447240e-02\n",
            "  -7.18253879e-01 -1.71862481e-01 -3.83132274e-01 -2.20274406e-02\n",
            "   1.78269681e-01 -1.66139565e-01  1.22524773e+00  1.40457448e+00\n",
            "   3.11978571e-01 -1.86237107e-01 -7.06310056e-04 -3.00039318e-01\n",
            "   4.76060485e-01 -6.74114757e-01  8.70342421e-02 -1.35293720e-01\n",
            "   4.55163329e-01 -1.42422870e+00  5.24882254e-02  3.94113515e-01\n",
            "  -3.93982609e-02 -2.65498982e-01 -1.30356745e+00  1.35358424e+00\n",
            "   6.26100641e-01  9.57000489e-01 -5.45638741e+00  8.44673110e-01\n",
            "   2.31729418e-01  9.63580807e-01 -1.90217558e+00  1.77699800e+00\n",
            "   6.21792975e-01 -2.15132702e-02 -7.50605681e-01  3.41957895e-01\n",
            "   3.09973362e-01  3.10439091e-01 -2.16856847e-01  1.21958163e-01]]\n"
          ]
        }
      ],
      "source": [
        "# Step 6: Project Data onto Principal Components\n",
        "explained_variance_ratio = sorted_eigenvalues / np.sum(sorted_eigenvalues)\n",
        "cumulative_variance = np.cumsum(explained_variance_ratio)\n",
        "\n",
        "num_components = np.argmax(cumulative_variance >= 0.85) + 1\n",
        "print(f\"\\nNumber of components to explain 85% variance: {num_components}\")\n",
        "\n",
        "reduced_data = np.dot(standardized_data, sorted_eigenvectors[:, :num_components])\n",
        "\n",
        "print(\"First 5 rows of reduced data:\")\n",
        "print(reduced_data[:5])"
      ]
    },
    {
      "cell_type": "markdown",
      "metadata": {
        "id": "XVq-b6vtr_Kg"
      },
      "source": [
        "### Step 7: Output the Reduced Data\n",
        "Finally, display the reduced data obtained by projecting the original dataset onto the selected principal components."
      ]
    },
    {
      "cell_type": "code",
      "execution_count": 33,
      "metadata": {
        "colab": {
          "base_uri": "https://localhost:8080/"
        },
        "id": "5D0uzRyPr_Kg",
        "outputId": "47c8e9f4-dd49-4b44-b9fa-3831450e3523"
      },
      "outputs": [
        {
          "output_type": "stream",
          "name": "stdout",
          "text": [
            "Reduced Data Shape: (54, 44)\n"
          ]
        },
        {
          "output_type": "execute_result",
          "data": {
            "text/plain": [
              "array([[-9.22693601e-01, -2.46040854e+00, -2.58400794e+00,\n",
              "        -5.07448541e+00,  2.67395058e+00,  2.18926714e-02,\n",
              "         4.72502722e-01, -1.17147600e+00,  2.11506217e+00,\n",
              "        -4.76710918e-02, -2.80600573e-01, -3.47251199e-01,\n",
              "         4.19878883e-01,  1.28666146e+00,  3.19964666e-01,\n",
              "        -4.69488669e-01, -1.60586878e-01, -3.85854768e-01,\n",
              "        -4.18723646e-01, -6.55865442e-01, -1.44542220e+00,\n",
              "        -1.14422696e+00,  7.35822971e-02,  2.10252835e-01,\n",
              "         1.64008206e+00,  1.27171252e+00, -3.34637764e-01,\n",
              "         1.79054165e-01,  1.17829837e-01,  7.13060471e-01,\n",
              "         3.86479006e-01, -1.28660152e+00,  2.19002869e-01,\n",
              "         7.14345877e-01,  4.37281062e-01, -2.56162894e-01,\n",
              "         7.35274642e-01, -1.13543042e+00, -8.33861742e-01,\n",
              "         3.56162300e-01,  3.79682949e-01,  8.98954956e-01,\n",
              "        -1.10101199e+00,  1.81590224e-01],\n",
              "       [ 6.90478787e-01, -7.56568327e-01,  6.14093551e-02,\n",
              "         4.82731163e-01, -4.52328517e-01, -4.99646343e-02,\n",
              "        -3.20050828e-02,  1.04226502e-01, -1.29838436e-01,\n",
              "         5.85875042e-02, -6.00600205e-01, -3.11068258e-01,\n",
              "        -4.00064016e-01,  3.75746994e-01, -8.05276011e-01,\n",
              "        -7.20186508e-01,  8.50992232e-02,  1.66694777e-01,\n",
              "         3.98767540e-01, -2.36258987e-01,  7.96189407e-01,\n",
              "        -2.03943833e+00, -1.67041644e+00,  4.31696549e-01,\n",
              "         3.08162178e-01,  3.70391229e-02, -6.16895419e-01,\n",
              "        -2.03254896e+00,  6.50642304e-01,  9.67429954e-01,\n",
              "         2.26460054e+00,  5.17205162e-01, -1.66584980e-01,\n",
              "         1.57479145e-01, -1.93615087e+00,  9.88367962e-01,\n",
              "         1.93710171e+00, -5.78102210e-01, -1.33457966e+00,\n",
              "        -5.74014008e-01,  5.31478297e-01,  1.15197410e+00,\n",
              "         2.22948204e+00, -2.15914739e+00],\n",
              "       [ 1.09990393e+00, -4.16402434e-01,  3.85001500e-01,\n",
              "        -1.71529394e-01, -7.40058532e-01,  7.17071254e-02,\n",
              "        -6.90833978e-02,  2.18300654e-01,  6.84483575e-02,\n",
              "         1.67905585e-02,  3.04234583e-01,  9.30971144e-01,\n",
              "        -9.98587659e-01, -3.92714363e-01, -9.16684824e-01,\n",
              "         7.36602494e-01,  9.07876455e-01,  4.91165572e-01,\n",
              "         5.87089590e-01,  7.61550253e-01,  5.61890450e-01,\n",
              "        -1.78778437e-02,  1.46588839e+00,  7.46646051e-01,\n",
              "         7.65516554e-01,  1.93261047e+00, -1.39841262e+00,\n",
              "         1.55316413e+00,  7.06606443e-01, -8.11510031e-01,\n",
              "         2.27171402e+00,  1.03434019e+00,  3.15560547e-01,\n",
              "         4.30323792e-01, -1.56731561e+00, -2.69341355e-01,\n",
              "         7.76927551e-02,  1.16348607e-01,  9.24005174e-01,\n",
              "         2.67416839e+00, -7.65031069e-01, -1.07076141e+00,\n",
              "         1.20283239e+00,  1.04339186e+00],\n",
              "       [-1.15262306e+00,  4.04234187e+00,  5.82238163e-01,\n",
              "         4.76977568e-01,  2.53351524e+00,  1.28793678e+00,\n",
              "        -1.04565026e+00, -1.01011484e+00,  1.51910372e+00,\n",
              "        -1.05784185e+00, -5.92073298e-03, -1.25614186e+00,\n",
              "        -4.61370277e-01,  2.97019230e-01,  1.14120731e+00,\n",
              "        -1.67569893e-02,  8.22640161e-01, -4.65578232e-01,\n",
              "         2.58514121e-01, -5.92574063e-01,  8.95598653e-01,\n",
              "        -8.66071453e-01, -7.75082135e-01, -3.39035787e-03,\n",
              "        -4.74784303e-01, -9.64913666e-01,  8.67038117e-01,\n",
              "         8.19516602e-01,  2.34855007e+00,  5.53067542e-01,\n",
              "         2.63724523e-01, -1.42143523e-01,  4.89493987e-01,\n",
              "        -2.61178166e-01,  6.75739902e-01, -3.68473137e-01,\n",
              "         9.78053295e-03,  2.42996893e+00,  8.20335637e-01,\n",
              "        -1.68414266e-01,  2.10268616e-01, -1.04065796e+00,\n",
              "        -8.48219994e-01, -1.15322740e+00],\n",
              "       [ 1.13889630e+00, -6.38997704e-01,  1.16911855e-01,\n",
              "         1.54447240e-02, -7.18253879e-01, -1.71862481e-01,\n",
              "        -3.83132274e-01, -2.20274406e-02,  1.78269681e-01,\n",
              "        -1.66139565e-01,  1.22524773e+00,  1.40457448e+00,\n",
              "         3.11978571e-01, -1.86237107e-01, -7.06310056e-04,\n",
              "        -3.00039318e-01,  4.76060485e-01, -6.74114757e-01,\n",
              "         8.70342421e-02, -1.35293720e-01,  4.55163329e-01,\n",
              "        -1.42422870e+00,  5.24882254e-02,  3.94113515e-01,\n",
              "        -3.93982609e-02, -2.65498982e-01, -1.30356745e+00,\n",
              "         1.35358424e+00,  6.26100641e-01,  9.57000489e-01,\n",
              "        -5.45638741e+00,  8.44673110e-01,  2.31729418e-01,\n",
              "         9.63580807e-01, -1.90217558e+00,  1.77699800e+00,\n",
              "         6.21792975e-01, -2.15132702e-02, -7.50605681e-01,\n",
              "         3.41957895e-01,  3.09973362e-01,  3.10439091e-01,\n",
              "        -2.16856847e-01,  1.21958163e-01]])"
            ]
          },
          "metadata": {},
          "execution_count": 33
        }
      ],
      "source": [
        "# Step 7: Output the Reduced Data\n",
        "print(f'Reduced Data Shape: {reduced_data.shape}')  # Display reduced data shape\n",
        "reduced_data[:5]  # Display the first few rows of reduced data"
      ]
    },
    {
      "cell_type": "markdown",
      "metadata": {
        "id": "S1f8ROm5r_Kg"
      },
      "source": [
        "### Step 8: Visualize Before and After PCA\n",
        "Now, let's plot the original data and the data after PCA to compare the reduction in dimensions visually."
      ]
    },
    {
      "cell_type": "code",
      "execution_count": 34,
      "metadata": {
        "colab": {
          "base_uri": "https://localhost:8080/",
          "height": 456
        },
        "id": "WwuppWV-r_Kg",
        "outputId": "0ffaf308-6791-414e-8f38-6e2941b201bb"
      },
      "outputs": [
        {
          "output_type": "display_data",
          "data": {
            "text/plain": [
              "<Figure size 1200x500 with 2 Axes>"
            ],
            "image/png": "[encoded data removed]"
          },
          "metadata": {}
        }
      ],
      "source": [
        "# Step 8: Visualize Before and After PCA\n",
        "plt.figure(figsize=(12, 5))\n",
        "\n",
        "# Plot 1: Original data (first two features for simplicity)\n",
        "plt.subplot(1, 2, 1)\n",
        "plt.scatter(standardized_data[:, 0], standardized_data[:, 1], alpha=0.7, c='blue')\n",
        "plt.xlabel('First Principal Component(standardized)')\n",
        "plt.ylabel('Second Principal Component (standardized)')\n",
        "plt.title('Original Data (First 2 Features)')\n",
        "plt.grid(True, alpha=0.3)\n",
        "\n",
        "# Plot 3: PCA data (first two principal components)\n",
        "plt.subplot(1, 2, 2)\n",
        "plt.scatter(reduced_data[:, 0], reduced_data[:, 1], alpha=0.7, c='red')\n",
        "plt.xlabel('First Principal Component')\n",
        "plt.ylabel('Second Principal Component')\n",
        "plt.title('PCA Transformed Data')\n",
        "plt.grid(True, alpha=0.3)\n",
        "\n",
        "\n",
        "plt.tight_layout()\n",
        "plt.show()\n"
      ]
    }
  ],
  "metadata": {
    "colab": {
      "provenance": []
    },
    "kernelspec": {
      "display_name": "Python 3",
      "name": "python3"
    },
    "language_info": {
      "name": "python",
      "version": "3.8.8"
    }
  },
  "nbformat": 4,
  "nbformat_minor": 0
}